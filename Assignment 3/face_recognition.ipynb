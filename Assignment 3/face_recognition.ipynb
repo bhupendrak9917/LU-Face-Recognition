{
 "cells": [
  {
   "cell_type": "markdown",
   "id": "665e7ed7",
   "metadata": {},
   "source": [
    "### Train and Test Images are Same\n",
    "### Train: Johnny Depp\n",
    "### Test: Johnny Depp"
   ]
  },
  {
   "cell_type": "code",
   "execution_count": 1,
   "id": "b6d5e960",
   "metadata": {},
   "outputs": [
    {
     "data": {
      "text/plain": [
       "-1"
      ]
     },
     "execution_count": 1,
     "metadata": {},
     "output_type": "execute_result"
    }
   ],
   "source": [
    "import cv2\n",
    "import face_recognition\n",
    "\n",
    "johnny_train = face_recognition.load_image_file('johnny_train.jpg')\n",
    "johnny_encodings_train = face_recognition.face_encodings(johnny_train)[0]\n",
    "johnny_location_train = face_recognition.face_locations(johnny_train)[0]\n",
    "\n",
    "\n",
    "\n",
    "johnny_test = face_recognition.load_image_file('johnny_test.jpg')\n",
    "johnny_encodings_test = face_recognition.face_encodings(johnny_test)[0]\n",
    "\n",
    "\n",
    "results = face_recognition.compare_faces([johnny_encodings_test], johnny_encodings_train)[0]\n",
    "dst = face_recognition.face_distance([johnny_encodings_train], johnny_encodings_test)\n",
    "if results:\n",
    "    johnny_train = cv2.cvtColor(johnny_train, cv2.COLOR_BGR2RGB)\n",
    "    cv2.rectangle(johnny_train, \n",
    "        (johnny_location_train[3], johnny_location_train[0]),\n",
    "        (johnny_location_train[1], johnny_location_train[2]),\n",
    "        (0, 255, 0),\n",
    "        2)\n",
    "    cv2.putText(johnny_train,f\"{results} {dst}\",\n",
    "        (60, 60),\n",
    "        cv2.FONT_HERSHEY_DUPLEX,\n",
    "        1,\n",
    "        (0, 255,0),\n",
    "        1)\n",
    "    cv2.imshow(\"Johnny Depp\", johnny_test)\n",
    "else:\n",
    "    print(f\"Could not recognize the face. Result was {results} and distance was {dst}\")\n",
    "cv2.waitKey(0)"
   ]
  },
  {
   "cell_type": "markdown",
   "id": "e8b1d72b",
   "metadata": {},
   "source": [
    "### Train and Test Images are Same\n",
    "### Train: Tom Cruise\n",
    "### Test: Tom Cruise"
   ]
  },
  {
   "cell_type": "code",
   "execution_count": 4,
   "id": "255acb83",
   "metadata": {},
   "outputs": [
    {
     "data": {
      "text/plain": [
       "-1"
      ]
     },
     "execution_count": 4,
     "metadata": {},
     "output_type": "execute_result"
    }
   ],
   "source": [
    "import cv2\n",
    "import face_recognition\n",
    "\n",
    "tom_train = face_recognition.load_image_file('tomcruise_train.jpg')\n",
    "tom_encodings_train = face_recognition.face_encodings(tom_train)[0]\n",
    "tom_location_train = face_recognition.face_locations(tom_train)[0]\n",
    "\n",
    "\n",
    "\n",
    "tom_test = face_recognition.load_image_file('tomcruise_test.jpg')\n",
    "tom_encodings_test = face_recognition.face_encodings(tom_test)[0]\n",
    "\n",
    "\n",
    "results = face_recognition.compare_faces([tom_encodings_test], tom_encodings_train)[0]\n",
    "dst = face_recognition.face_distance([tom_encodings_train], tom_encodings_test)\n",
    "if results:\n",
    "    tom_train = cv2.cvtColor(tom_train, cv2.COLOR_BGR2RGB)\n",
    "    cv2.rectangle(tom_train, \n",
    "        (tom_location_train[3], tom_location_train[0]),\n",
    "        (tom_location_train[1], tom_location_train[2]),\n",
    "        (0, 255, 0),\n",
    "        2)\n",
    "    cv2.putText(tom_train,f\"{results} {dst}\",\n",
    "        (60, 60),\n",
    "        cv2.FONT_HERSHEY_DUPLEX,\n",
    "        1,\n",
    "        (0, 255,0),\n",
    "        1)\n",
    "    cv2.imshow(\"Tom Cruise\", tom_test)\n",
    "else:\n",
    "    print(f\"Could not recognize the face. Result was {results} and distance was {dst}\")\n",
    "cv2.waitKey(0)"
   ]
  },
  {
   "cell_type": "markdown",
   "id": "a83b5ecc",
   "metadata": {},
   "source": [
    "### Train and Test Images are different\n",
    "### Train: Tom Cruise\n",
    "### Test: Johnny Depp"
   ]
  },
  {
   "cell_type": "code",
   "execution_count": 8,
   "id": "2b96cf02",
   "metadata": {},
   "outputs": [
    {
     "name": "stdout",
     "output_type": "stream",
     "text": [
      "Could not recognize the face. Result was False and distance was [0.88055572]\n"
     ]
    },
    {
     "data": {
      "text/plain": [
       "-1"
      ]
     },
     "execution_count": 8,
     "metadata": {},
     "output_type": "execute_result"
    }
   ],
   "source": [
    "import cv2\n",
    "import face_recognition\n",
    "\n",
    "tom_train = face_recognition.load_image_file('tomcruise_train.jpg')\n",
    "tom_encodings_train = face_recognition.face_encodings(tom_train)[0]\n",
    "tom_location_train = face_recognition.face_locations(tom_train)[0]\n",
    "\n",
    "\n",
    "\n",
    "johnny_test = face_recognition.load_image_file('johnny_test.jpg')\n",
    "johnny_encodings_test = face_recognition.face_encodings(johnny_test)[0]\n",
    "\n",
    "\n",
    "results = face_recognition.compare_faces([johnny_encodings_test], tom_encodings_train)[0]\n",
    "dst = face_recognition.face_distance([tom_encodings_train], johnny_encodings_test)\n",
    "if results:\n",
    "    tom_train = cv2.cvtColor(tom_train, cv2.COLOR_BGR2RGB)\n",
    "    cv2.rectangle(tom_train, \n",
    "        (tom_location_train[3], tom_location_train[0]),\n",
    "        (tom_location_train[1], tom_location_train[2]),\n",
    "        (0, 255, 0),\n",
    "        2)\n",
    "    cv2.putText(tom_train,f\"{results} {dst}\",\n",
    "        (60, 60),\n",
    "        cv2.FONT_HERSHEY_DUPLEX,\n",
    "        1,\n",
    "        (0, 255,0),\n",
    "        1)\n",
    "    cv2.imshow(\"Johnny Depp\", johnny_test)\n",
    "else:\n",
    "    print(f\"Could not recognize the face. Result was {results} and distance was {dst}\")\n",
    "cv2.waitKey(0)"
   ]
  },
  {
   "cell_type": "markdown",
   "id": "c7e512bc",
   "metadata": {},
   "source": [
    "### Train and Test Images are Different\n",
    "### Train: Johnny Depp\n",
    "### Test: Tom Cruise"
   ]
  },
  {
   "cell_type": "code",
   "execution_count": 9,
   "id": "766f393e",
   "metadata": {},
   "outputs": [
    {
     "name": "stdout",
     "output_type": "stream",
     "text": [
      "Could not recognize the face. Result was False and distance was [0.86911961]\n"
     ]
    },
    {
     "data": {
      "text/plain": [
       "-1"
      ]
     },
     "execution_count": 9,
     "metadata": {},
     "output_type": "execute_result"
    }
   ],
   "source": [
    "import cv2\n",
    "import face_recognition\n",
    "\n",
    "johnny_train = face_recognition.load_image_file('johnny_train.jpg')\n",
    "johnny_encodings_train = face_recognition.face_encodings(johnny_train)[0]\n",
    "johnny_location_train = face_recognition.face_locations(johnny_train)[0]\n",
    "\n",
    "\n",
    "\n",
    "tom_test = face_recognition.load_image_file('tomcruise_test.jpg')\n",
    "tom_encodings_test = face_recognition.face_encodings(tom_test)[0]\n",
    "\n",
    "\n",
    "results = face_recognition.compare_faces([tom_encodings_test], johnny_encodings_train)[0]\n",
    "dst = face_recognition.face_distance([johnny_encodings_train], tom_encodings_test)\n",
    "if results:\n",
    "    johnny_train = cv2.cvtColor(johnny_train, cv2.COLOR_BGR2RGB)\n",
    "    cv2.rectangle(tom_train, \n",
    "        (johnny_location_train[3], johnny_location_train[0]),\n",
    "        (johnny_location_train[1], johnny_location_train[2]),\n",
    "        (0, 255, 0),\n",
    "        2)\n",
    "    cv2.putText(johnny_train,f\"{results} {dst}\",\n",
    "        (60, 60),\n",
    "        cv2.FONT_HERSHEY_DUPLEX,\n",
    "        1,\n",
    "        (0, 255,0),\n",
    "        1)\n",
    "    cv2.imshow(\"Tom Cruise\", tom_test)\n",
    "else:\n",
    "    print(f\"Could not recognize the face. Result was {results} and distance was {dst}\")\n",
    "cv2.waitKey(0)"
   ]
  },
  {
   "cell_type": "code",
   "execution_count": null,
   "id": "7f3ce71d",
   "metadata": {},
   "outputs": [],
   "source": []
  }
 ],
 "metadata": {
  "kernelspec": {
   "display_name": "Python 3",
   "language": "python",
   "name": "python3"
  },
  "language_info": {
   "codemirror_mode": {
    "name": "ipython",
    "version": 3
   },
   "file_extension": ".py",
   "mimetype": "text/x-python",
   "name": "python",
   "nbconvert_exporter": "python",
   "pygments_lexer": "ipython3",
   "version": "3.9.3"
  }
 },
 "nbformat": 4,
 "nbformat_minor": 5
}
