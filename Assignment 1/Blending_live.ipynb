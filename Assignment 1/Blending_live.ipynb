{
 "cells": [
  {
   "cell_type": "code",
   "execution_count": 3,
   "id": "9f8be1c0",
   "metadata": {},
   "outputs": [
    {
     "name": "stdout",
     "output_type": "stream",
     "text": [
      "choose a number from 1 to 6: 3\n"
     ]
    }
   ],
   "source": [
    "import cv2\n",
    "\n",
    "cam = cv2.VideoCapture(0)\n",
    "image1 = cv2.imread('demonslayer.jpg')\n",
    "image2 = cv2.imread('itachi.jpg')\n",
    "image3 = cv2.imread('Jiraiya.jpg')\n",
    "image4 = cv2.imread('obito.jpg')\n",
    "image5 = cv2.imread('rickmorty.jpg')\n",
    "image6 = cv2.imread('tomjerry.jpg')\n",
    "\n",
    "\n",
    "k = int(input('choose a number from 1 to 6: '))\n",
    "\n",
    "while True:\n",
    "    flag, frame = cam.read()\n",
    "    if not flag:\n",
    "        print('Could not access the camera')\n",
    "        break\n",
    "    elif flag:\n",
    "        if k == 1:\n",
    "            image1 = cv2.resize(image1, (frame.shape[1], frame.shape[0]))\n",
    "            blended_frame1 = cv2.addWeighted(frame, 0.7, image1, 0.3, gamma = 0.1)\n",
    "            cv2.imshow('Demon Slayer Filter', blended_frame1)\n",
    "        elif k == 2:\n",
    "            image2 = cv2.resize(image2, (frame.shape[1], frame.shape[0]))\n",
    "            blended_frame2 = cv2.addWeighted(frame, 0.7, image2, 0.3, gamma = 0.1)\n",
    "            cv2.imshow('Itachi Uchiha Filter', blended_frame2)\n",
    "        elif k == 3:\n",
    "            image3 = cv2.resize(image3, (frame.shape[1], frame.shape[0]))\n",
    "            blended_frame3 = cv2.addWeighted(frame, 0.7, image3, 0.3, gamma = 0.1)\n",
    "            cv2.imshow('Jiraiya Filter', blended_frame3)\n",
    "        elif k == 4:\n",
    "            image4 = cv2.resize(image4, (frame.shape[1], frame.shape[0]))\n",
    "            blended_frame4 = cv2.addWeighted(frame, 0.7, image4, 0.3, gamma = 0.1)\n",
    "            cv2.imshow('Obito Uchiha Filter', blended_frame4)\n",
    "        elif k == 5:\n",
    "            image5 = cv2.resize(image5, (frame.shape[1], frame.shape[0]))\n",
    "            blended_frame5 = cv2.addWeighted(frame, 0.7, image5, 0.3, gamma = 0.1)\n",
    "            cv2.imshow('Rick and Morty Filter', blended_frame5)\n",
    "        elif k == 6:\n",
    "            image6 = cv2.resize(image6, (frame.shape[1], frame.shape[0]))\n",
    "            blended_frame6 = cv2.addWeighted(frame, 0.7, image6, 0.3, gamma = 0.1)\n",
    "            cv2.imshow('Tom and Jerry Filter', blended_frame6)\n",
    "        m = cv2.waitKey(1)\n",
    "        if m == ord('q'):\n",
    "            break\n",
    "\n",
    "\n",
    "cam.release()\n",
    "cv2.destroyAllWindows()"
   ]
  },
  {
   "cell_type": "code",
   "execution_count": null,
   "id": "0030267f",
   "metadata": {},
   "outputs": [],
   "source": []
  }
 ],
 "metadata": {
  "kernelspec": {
   "display_name": "Python 3",
   "language": "python",
   "name": "python3"
  },
  "language_info": {
   "codemirror_mode": {
    "name": "ipython",
    "version": 3
   },
   "file_extension": ".py",
   "mimetype": "text/x-python",
   "name": "python",
   "nbconvert_exporter": "python",
   "pygments_lexer": "ipython3",
   "version": "3.9.3"
  }
 },
 "nbformat": 4,
 "nbformat_minor": 5
}
